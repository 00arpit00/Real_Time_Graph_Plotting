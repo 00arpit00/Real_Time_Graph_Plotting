{
 "cells": [
  {
   "cell_type": "code",
   "execution_count": 21,
   "metadata": {
    "scrolled": true
   },
   "outputs": [
    {
     "name": "stdout",
     "output_type": "stream",
     "text": [
      "(1999, 2000, 2001, 2002, 2003, 2004, 2005, 2006, 2007, 2008, 2009, 2010, 2011, 2012)\n",
      "[-0.33256462024230415, -0.3256189549569005, -0.3106167128142101, -0.29945576991156037, -0.28278354073471507, -0.26235318260805224, -0.21718867119813318, -0.1432395886914777, -0.027180508005354903, 0.14760008819317874, 0.3183676973221012, 0.48809390911775435, 0.5795044747719784, 0.6674353797576958]\n",
      " y = 0.0455434471482471 * x +-91.45163650761003\n"
     ]
    },
    {
     "data": {
      "image/png": "[encoded data removed]",
      "text/plain": [
       "<matplotlib.figure.Figure at 0x7f5d9cedba20>"
      ]
     },
     "metadata": {},
     "output_type": "display_data"
    }
   ],
   "source": [
    "import re\n",
    "import requests\n",
    "import matplotlib.pyplot as plt\n",
    "import numpy as np\n",
    "from sklearn import linear_model\n",
    "\n",
    "url = 'https://www.internetlivestats.com/google-search-statistics/'\n",
    "\n",
    "data = requests.get(url).content\n",
    "\n",
    "data = data.decode('utf-8')\n",
    "\n",
    "start = re.search(\"'Year', 'Search queries'\",data).end()\n",
    "\n",
    "end = re.search(\" var options = { title: 'Google Searches per Year\",data).start()\n",
    "\n",
    "#print(start,end)\n",
    "\n",
    "raw_data = data[start+4:end-5]\n",
    "d=[]\n",
    "for i in raw_data.split('], '):\n",
    "\tyr,no = i.lstrip('[').split(',')\n",
    "\tyr = int(yr.strip(\"'\"))\n",
    "\tno = int(no)\n",
    "\td.append([yr,no])\n",
    "\n",
    "regr = linear_model.LinearRegression()\n",
    "x,y = zip(*d)\n",
    "\n",
    "max_x = max(x)\n",
    "min_x = min(x)\n",
    "mean_y = sum(y)/len(y)\n",
    "range_y = max(y)-min(y)\n",
    "y=[(i-mean_y)/range_y for i in y]\n",
    "print(x)\n",
    "print(y)\n",
    "train_data_X = list(map(lambda x: [x], list(x[:-4])))\n",
    "train_data_Y = list(y[:-4])\n",
    "test_data_X = list(map(lambda x: [x], list(x[-4:])))\n",
    "test_data_Y = list(y[-4:])\n",
    "regr.fit(train_data_X,train_data_Y)\n",
    "m=regr.coef_[0]\n",
    "b=regr.intercept_\n",
    "\n",
    "print(' y = {0} * x +{1}'.format(m,b))\n",
    "\n",
    "%matplotlib inline\n",
    "plt.scatter(x,y, color='blue')\n",
    "plt.plot(x,[m*i+b for i in x],'r')\n",
    "plt.show()\n"
   ]
  },
  {
   "cell_type": "code",
   "execution_count": 9,
   "metadata": {},
   "outputs": [
    {
     "name": "stdout",
     "output_type": "stream",
     "text": [
      "[ 0.04514881  0.09069226  0.13623571  0.18177915]\n"
     ]
    }
   ],
   "source": [
    "print(regr.predict(test_data_X))"
   ]
  },
  {
   "cell_type": "code",
   "execution_count": 10,
   "metadata": {},
   "outputs": [
    {
     "name": "stdout",
     "output_type": "stream",
     "text": [
      "Mean squared error: 0.17\n"
     ]
    }
   ],
   "source": [
    "print(\"Mean squared error: %.2f\" % np.mean((regr.predict(test_data_X) - test_data_Y) ** 2))"
   ]
  },
  {
   "cell_type": "code",
   "execution_count": 24,
   "metadata": {},
   "outputs": [
    {
     "name": "stdout",
     "output_type": "stream",
     "text": [
      "[  1.65867961e+11]\n"
     ]
    }
   ],
   "source": [
    "print(regr.predict(2017)*mean_y)"
   ]
  },
  {
   "cell_type": "code",
   "execution_count": null,
   "metadata": {
    "collapsed": true
   },
   "outputs": [],
   "source": []
  }
 ],
 "metadata": {
  "kernelspec": {
   "display_name": "Python 3",
   "language": "python",
   "name": "python3"
  },
  "language_info": {
   "codemirror_mode": {
    "name": "ipython",
    "version": 3
   },
   "file_extension": ".py",
   "mimetype": "text/x-python",
   "name": "python",
   "nbconvert_exporter": "python",
   "pygments_lexer": "ipython3",
   "version": "3.4.3"
  }
 },
 "nbformat": 4,
 "nbformat_minor": 2
}
